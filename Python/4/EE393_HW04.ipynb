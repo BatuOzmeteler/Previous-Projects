{
 "cells": [
  {
   "cell_type": "code",
   "execution_count": null,
   "metadata": {},
   "outputs": [],
   "source": [
    "#http://localhost:8888/lab/tree/EE393_HW04.ipynb\n",
    "\n",
    "import numpy as np\n",
    "import matplotlib.pyplot as plt\n",
    "import math \n",
    "\n",
    "a = float(input(\"Give me the 'a' coefficient: \")) #getting inputs\n",
    "b = float(input(\"Give me the 'b' coefficient: \"))\n",
    "c = float(input(\"Give me the 'c' coefficient: \"))\n",
    "d = float(input(\"Give me the 'd' coefficient: \"))\n",
    "yMin = int(input(\"Give me ymin for the interval: \"))\n",
    "yMax = int(input(\"Give me ymax for the interval: \"))\n",
    "\n",
    "xValues =  np.linspace(-1,1,100) #necessary variables declared\n",
    "xAxis = []\n",
    "xAxisDerived = []\n",
    "yAxis = []\n",
    "yAxisDerived = []\n",
    "for xValue in xValues: #lists fullfilled according to given conditions \n",
    "    yValue = a*math.pow(xValue,3) + b*math.pow(xValue,2) + c*xValue + d\n",
    "    yValueDerived = 3*a*math.pow(xValue,2) + 2*b*xValue + c\n",
    "    if(yValue >= yMin and yValue <= yMax):\n",
    "        yAxis.append(yValue)\n",
    "        xAxis.append(xValue)\n",
    "    if(yValueDerived >= yMin and yValueDerived <= yMax):    \n",
    "        xAxisDerived.append(xValue)\n",
    "        yAxisDerived.append(yValueDerived)\n",
    "    \n",
    "plt.plot(xAxis,yAxis,'b--', xAxisDerived,yAxisDerived,'r--',linewidth = 1)#values are plotted  \n",
    "plt.xlabel(\"x Axis \\n blueLine: y \\n redLine: y' \") #graph is labeled \n",
    "plt.ylabel(\"y Axis \\n y = %dx^3 + %dx^2 + %dx + %d  \" % (a,b,c,d)) \n",
    "plt.gca().xaxis.grid(True) #grid is enabled \n",
    "plt.gca().yaxis.grid(True)\n",
    "plt.show()"
   ]
  },
  {
   "cell_type": "markdown",
   "metadata": {},
   "source": []
  }
 ],
 "metadata": {
  "kernelspec": {
   "display_name": "Python 3",
   "language": "python",
   "name": "python3"
  },
  "language_info": {
   "codemirror_mode": {
    "name": "ipython",
    "version": 3
   },
   "file_extension": ".py",
   "mimetype": "text/x-python",
   "name": "python",
   "nbconvert_exporter": "python",
   "pygments_lexer": "ipython3",
   "version": "3.6.5"
  }
 },
 "nbformat": 4,
 "nbformat_minor": 2
}
